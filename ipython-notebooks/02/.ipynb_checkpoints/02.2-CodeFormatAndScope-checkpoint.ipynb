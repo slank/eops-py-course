{
 "metadata": {
  "name": ""
 },
 "nbformat": 3,
 "nbformat_minor": 0,
 "worksheets": [
  {
   "cells": [
    {
     "cell_type": "code",
     "collapsed": false,
     "input": [
      "first_name = \"Zaphod\"\n",
      "\n",
      "def hello():\n",
      "    \"\"\"Say hello\"\"\"\n",
      "    print \"Hello, {}\".format(first_name)\n",
      "\n",
      "def reverse_name():\n",
      "    global first_name\n",
      "    first_name = first_name[::-1]"
     ],
     "language": "python",
     "metadata": {},
     "outputs": []
    },
    {
     "cell_type": "code",
     "collapsed": false,
     "input": [
      "hello()"
     ],
     "language": "python",
     "metadata": {},
     "outputs": []
    },
    {
     "cell_type": "code",
     "collapsed": false,
     "input": [
      "reverse_name()\n",
      "hello()"
     ],
     "language": "python",
     "metadata": {},
     "outputs": []
    }
   ],
   "metadata": {}
  }
 ]
}