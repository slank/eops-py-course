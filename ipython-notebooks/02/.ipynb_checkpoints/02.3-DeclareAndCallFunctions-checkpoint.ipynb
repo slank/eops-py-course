{
 "metadata": {
  "name": ""
 },
 "nbformat": 3,
 "nbformat_minor": 0,
 "worksheets": [
  {
   "cells": [
    {
     "cell_type": "code",
     "collapsed": false,
     "input": [
      "first_name = \"Zaphod\"\n",
      "\n",
      "def hello(name):\n",
      "    \"\"\"Say hello\"\"\"\n",
      "    print \"Hello, {}\".format(name)\n",
      "\n",
      "def hello_multi(name, greeting_mult=1):\n",
      "    \"\"\"Say hello gratuitously\"\"\"\n",
      "    greeting_count = 3 * greeting_mult\n",
      "    for num in range(greeting_count):\n",
      "        hello(name)"
     ],
     "language": "python",
     "metadata": {},
     "outputs": []
    },
    {
     "cell_type": "code",
     "collapsed": false,
     "input": [
      "hello(first_name)"
     ],
     "language": "python",
     "metadata": {},
     "outputs": []
    },
    {
     "cell_type": "code",
     "collapsed": false,
     "input": [
      "hello_multi(first_name, 3)"
     ],
     "language": "python",
     "metadata": {},
     "outputs": []
    },
    {
     "cell_type": "code",
     "collapsed": false,
     "input": [
      "# optional arguments\n",
      "hello_multi(first_name)"
     ],
     "language": "python",
     "metadata": {},
     "outputs": []
    },
    {
     "cell_type": "code",
     "collapsed": false,
     "input": [
      "# keyword arguments\n",
      "hello_multi(first_name, greeting_mult=2)"
     ],
     "language": "python",
     "metadata": {},
     "outputs": []
    },
    {
     "cell_type": "code",
     "collapsed": false,
     "input": [
      "%xmode plain\n",
      "# fail, missing required argument\n",
      "hello_multi(greeting_mult=2)"
     ],
     "language": "python",
     "metadata": {},
     "outputs": []
    }
   ],
   "metadata": {}
  }
 ]
}