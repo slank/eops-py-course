{
 "metadata": {
  "name": ""
 },
 "nbformat": 3,
 "nbformat_minor": 0,
 "worksheets": [
  {
   "cells": [
    {
     "cell_type": "code",
     "collapsed": false,
     "input": [
      "%xmode plain"
     ],
     "language": "python",
     "metadata": {},
     "outputs": [
      {
       "output_type": "stream",
       "stream": "stdout",
       "text": [
        "Exception reporting mode: Plain\n"
       ]
      }
     ],
     "prompt_number": 5
    },
    {
     "cell_type": "code",
     "collapsed": false,
     "input": [
      "first_name = \"Zaphod\"\n",
      "\n",
      "def hello(name):\n",
      "    \"\"\"Say hello\"\"\"\n",
      "    print \"Hello, {}\".format(name)\n",
      "\n",
      "def hello_multi(name, greeting_mult=1):\n",
      "    \"\"\"Say hello gratuitously\"\"\"\n",
      "    greeting_count = 3 * greeting_mult\n",
      "    for num in range(greeting_count):\n",
      "        hello(name)\n",
      "    return greeting_count\n",
      "\n",
      "hello(first_name)\n",
      "gc = hello_multi(\"Startibartfast\")"
     ],
     "language": "python",
     "metadata": {},
     "outputs": [
      {
       "output_type": "stream",
       "stream": "stdout",
       "text": [
        "Hello, Zaphod\n",
        "Hello, Startibartfast\n",
        "Hello, Startibartfast\n",
        "Hello, Startibartfast\n"
       ]
      }
     ],
     "prompt_number": 16
    },
    {
     "cell_type": "code",
     "collapsed": false,
     "input": [
      "del(first_name)\n",
      "print hello(first_name)"
     ],
     "language": "python",
     "metadata": {},
     "outputs": [
      {
       "ename": "NameError",
       "evalue": "name 'first_name' is not defined",
       "output_type": "pyerr",
       "traceback": [
        "Traceback \u001b[0;36m(most recent call last)\u001b[0m:\n",
        "\u001b[0;36m  File \u001b[0;32m\"<ipython-input-17-167a5e02a5c1>\"\u001b[0;36m, line \u001b[0;32m2\u001b[0;36m, in \u001b[0;35m<module>\u001b[0;36m\u001b[0m\n\u001b[0;31m    print hello(first_name)\u001b[0m\n",
        "\u001b[0;31mNameError\u001b[0m\u001b[0;31m:\u001b[0m name 'first_name' is not defined\n"
       ]
      }
     ],
     "prompt_number": 17
    },
    {
     "cell_type": "code",
     "collapsed": false,
     "input": [
      "del(hello)\n",
      "print hello_multi(\"Startibartfast\")"
     ],
     "language": "python",
     "metadata": {},
     "outputs": [
      {
       "ename": "NameError",
       "evalue": "global name 'hello' is not defined",
       "output_type": "pyerr",
       "traceback": [
        "Traceback \u001b[0;36m(most recent call last)\u001b[0m:\n",
        "  File \u001b[1;32m\"<ipython-input-18-80349872a6c1>\"\u001b[0m, line \u001b[1;32m2\u001b[0m, in \u001b[1;35m<module>\u001b[0m\n    print hello_multi(\"Startibartfast\")\n",
        "\u001b[0;36m  File \u001b[0;32m\"<ipython-input-16-f29513c8ac80>\"\u001b[0;36m, line \u001b[0;32m11\u001b[0;36m, in \u001b[0;35mhello_multi\u001b[0;36m\u001b[0m\n\u001b[0;31m    hello(name)\u001b[0m\n",
        "\u001b[0;31mNameError\u001b[0m\u001b[0;31m:\u001b[0m global name 'hello' is not defined\n"
       ]
      }
     ],
     "prompt_number": 18
    }
   ],
   "metadata": {}
  }
 ]
}