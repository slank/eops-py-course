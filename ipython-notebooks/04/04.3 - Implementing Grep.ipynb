{
 "metadata": {
  "name": ""
 },
 "nbformat": 3,
 "nbformat_minor": 0,
 "worksheets": [
  {
   "cells": [
    {
     "cell_type": "code",
     "collapsed": false,
     "input": [
      "import re\n",
      "from argparse import ArgumentParser"
     ],
     "language": "python",
     "metadata": {},
     "outputs": []
    },
    {
     "cell_type": "markdown",
     "metadata": {},
     "source": [
      "#### Basic Line Matching"
     ]
    },
    {
     "cell_type": "code",
     "collapsed": false,
     "input": [
      "ap = ArgumentParser()\n",
      "ap.add_argument(\"pattern\")\n",
      "\n",
      "args = ap.parse_args([\"^[a-z]+\"])\n",
      "print args"
     ],
     "language": "python",
     "metadata": {},
     "outputs": []
    },
    {
     "cell_type": "code",
     "collapsed": false,
     "input": [
      "pattern = re.compile(args.pattern)"
     ],
     "language": "python",
     "metadata": {},
     "outputs": []
    },
    {
     "cell_type": "code",
     "collapsed": false,
     "input": [
      "lines = \"\"\"\n",
      "foo\n",
      "123\n",
      "abc\n",
      "*!%&\n",
      "\"\"\"\n",
      "for line in lines.split():\n",
      "    match = pattern.search(line)\n",
      "    if match:\n",
      "        print line"
     ],
     "language": "python",
     "metadata": {},
     "outputs": []
    },
    {
     "cell_type": "markdown",
     "metadata": {},
     "source": [
      "#### Matching Lines from Files"
     ]
    },
    {
     "cell_type": "code",
     "collapsed": false,
     "input": [
      "ap.add_argument(\"files\", nargs=\"+\")\n",
      "\n",
      "args = ap.parse_args([\"^[a-z]+\", \"/etc/hosts\", \"/etc/pass*\"])\n",
      "print args"
     ],
     "language": "python",
     "metadata": {},
     "outputs": []
    },
    {
     "cell_type": "code",
     "collapsed": false,
     "input": [
      "import glob\n",
      "pattern = re.compile(args.pattern)\n",
      "for file in args.files:\n",
      "    file_list = glob.glob(file)\n",
      "    for file_name in file_list:\n",
      "        with open(file_name) as f:\n",
      "            for line in f.readlines():\n",
      "                match = pattern.search(line)\n",
      "                if match:\n",
      "                    print \"{}: {}\".format(file_name, line.strip())"
     ],
     "language": "python",
     "metadata": {},
     "outputs": []
    },
    {
     "cell_type": "markdown",
     "metadata": {},
     "source": [
      "#### Better File Processing With fileinput"
     ]
    },
    {
     "cell_type": "code",
     "collapsed": false,
     "input": [
      "import fileinput\n",
      "from itertools import chain\n",
      "file_list = list(chain(*(glob.glob(f) for f in args.files)))\n",
      "for line in fileinput.input(file_list):\n",
      "    match = pattern.search(line)\n",
      "    if match:\n",
      "        print \"{}[{}]: {}\".format(fileinput.filename(), fileinput.filelineno(), line.strip())"
     ],
     "language": "python",
     "metadata": {},
     "outputs": []
    }
   ],
   "metadata": {}
  }
 ]
}