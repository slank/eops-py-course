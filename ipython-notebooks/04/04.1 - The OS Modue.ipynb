{
 "metadata": {
  "name": ""
 },
 "nbformat": 3,
 "nbformat_minor": 0,
 "worksheets": [
  {
   "cells": [
    {
     "cell_type": "markdown",
     "metadata": {},
     "source": [
      "# The OS Module"
     ]
    },
    {
     "cell_type": "code",
     "collapsed": false,
     "input": [
      "import os"
     ],
     "language": "python",
     "metadata": {},
     "outputs": []
    },
    {
     "cell_type": "markdown",
     "metadata": {},
     "source": [
      "#### Inspecting the Execution Environment"
     ]
    },
    {
     "cell_type": "code",
     "collapsed": false,
     "input": [
      "print \"curdir:\", os.curdir\n",
      "print \"getcwd:\", os.getcwd()\n",
      "os.chdir(\"..\")\n",
      "print \"new cwd:\", os.getcwd()"
     ],
     "language": "python",
     "metadata": {},
     "outputs": []
    },
    {
     "cell_type": "code",
     "collapsed": false,
     "input": [
      "print os.path.abspath(os.curdir)\n",
      "print os.path.abspath(\"../../..\")"
     ],
     "language": "python",
     "metadata": {},
     "outputs": []
    },
    {
     "cell_type": "code",
     "collapsed": false,
     "input": [
      "for f in (\"getpid\", \"getuid\", \"geteuid\", \"getgid\", \"getegid\", \"uname\"):\n",
      "    print\"{:>12}:\".format(f), getattr(os, f)()"
     ],
     "language": "python",
     "metadata": {},
     "outputs": []
    },
    {
     "cell_type": "code",
     "collapsed": false,
     "input": [
      "for k, v in os.environ.items():\n",
      "    print \"{:>30}: {}\".format(k, v)"
     ],
     "language": "python",
     "metadata": {},
     "outputs": []
    },
    {
     "cell_type": "markdown",
     "metadata": {},
     "source": [
      "#### Working With Files and Directories"
     ]
    },
    {
     "cell_type": "code",
     "collapsed": false,
     "input": [
      "scratch = os.path.expanduser(\"~/tmp/scratch\")\n",
      "print scratch"
     ],
     "language": "python",
     "metadata": {},
     "outputs": []
    },
    {
     "cell_type": "code",
     "collapsed": false,
     "input": [
      "os.mkdir(scratch)\n",
      "print \"{:o}\".format(os.stat(scratch).st_mode)[1:]\n",
      "os.chmod(scratch, 0700)\n",
      "print \"{:o}\".format(os.stat(scratch).st_mode)[1:]"
     ],
     "language": "python",
     "metadata": {},
     "outputs": []
    },
    {
     "cell_type": "code",
     "collapsed": false,
     "input": [
      "for name in (\"one\", \"two\", \"three\"):\n",
      "    subdir = os.path.join(scratch, name)\n",
      "    os.mkdir(subdir)\n",
      "print os.listdir(scratch)"
     ],
     "language": "python",
     "metadata": {},
     "outputs": []
    },
    {
     "cell_type": "code",
     "collapsed": false,
     "input": [
      "os.rmdir(scratch)"
     ],
     "language": "python",
     "metadata": {},
     "outputs": []
    },
    {
     "cell_type": "code",
     "collapsed": false,
     "input": [
      "import shutil\n",
      "shutil.rmtree(scratch)"
     ],
     "language": "python",
     "metadata": {},
     "outputs": []
    },
    {
     "cell_type": "code",
     "collapsed": false,
     "input": [
      "os.listdir(scratch)"
     ],
     "language": "python",
     "metadata": {},
     "outputs": []
    }
   ],
   "metadata": {}
  }
 ]
}