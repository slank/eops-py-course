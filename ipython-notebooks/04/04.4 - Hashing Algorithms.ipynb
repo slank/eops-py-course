{
 "metadata": {
  "name": ""
 },
 "nbformat": 3,
 "nbformat_minor": 0,
 "worksheets": [
  {
   "cells": [
    {
     "cell_type": "markdown",
     "metadata": {},
     "source": [
      "Hash functions are located in the \"hashlib\" module. Note that hash() is a built-in Python function that doesn't have much to do with generating hashed values."
     ]
    },
    {
     "cell_type": "code",
     "collapsed": false,
     "input": [
      "import hashlib\n",
      "print hashlib.algorithms"
     ],
     "language": "python",
     "metadata": {},
     "outputs": []
    },
    {
     "cell_type": "markdown",
     "metadata": {},
     "source": [
      "#### Verifying File Checksums"
     ]
    },
    {
     "cell_type": "code",
     "collapsed": false,
     "input": [
      "iso_file = '/Users/mwedgwood/repos/eops-py-course/downloads/CentOS-6.5-x86_64-netinstall.iso'\n",
      "sums = {\n",
      "    'md5': '939fd1d87c11ffe7795324438b85adfb',\n",
      "    'sha1': '3a9662cb65f9d59677d76acfdb73289da43b4599',\n",
      "    'sha256': 'd8aaf698408c0c01843446da4a20b1ac03d27f87aad3b3b7b7f42c6163be83b9',\n",
      "}"
     ],
     "language": "python",
     "metadata": {},
     "outputs": []
    },
    {
     "cell_type": "code",
     "collapsed": false,
     "input": [
      "for hashtype in sums:\n",
      "    hashobj = getattr(hashlib, hashtype)()\n",
      "    with open(iso_file) as data:\n",
      "        hashobj.update(data.read())\n",
      "    digest = hashobj.hexdigest()\n",
      "    print digest\n",
      "    print sums[hashtype]\n",
      "    if digest == sums[hashtype]:\n",
      "        print \"{} matches\".format(hashtype)\n",
      "    else:\n",
      "        print \"**** {} does not match ****\".format(hashtype)\n",
      "    print"
     ],
     "language": "python",
     "metadata": {},
     "outputs": []
    },
    {
     "cell_type": "markdown",
     "metadata": {},
     "source": [
      "#### Generating Password Hashes\n",
      "Adapted from http://throwingfire.com/storing-passwords-securely/"
     ]
    },
    {
     "cell_type": "code",
     "collapsed": false,
     "input": [
      "import os\n",
      "import base64\n",
      "\n",
      "salt = base64.b64encode(os.urandom(32))\n",
      "print salt"
     ],
     "language": "python",
     "metadata": {},
     "outputs": []
    },
    {
     "cell_type": "code",
     "collapsed": false,
     "input": [
      "password = 's3kr3t!!1'\n",
      "\n",
      "def get_digest(password, salt=None):\n",
      "    rounds = 5000\n",
      "    secret_key = 'notsafe'\n",
      "    if not salt:\n",
      "        salt = base64.b64encode(os.urandom(32))\n",
      "    digest = password\n",
      "    for i in xrange(rounds):\n",
      "        digest = hashlib.sha512(salt + digest + secret_key).hexdigest()\n",
      "    return salt, digest\n",
      "\n",
      "salt, digest = get_digest(password)\n",
      "print salt\n",
      "print digest"
     ],
     "language": "python",
     "metadata": {},
     "outputs": []
    },
    {
     "cell_type": "markdown",
     "metadata": {},
     "source": [
      "How long did that take?"
     ]
    },
    {
     "cell_type": "code",
     "collapsed": false,
     "input": [
      "import timeit\n",
      "print timeit.timeit('get_digest(password)', setup='from __main__ import password, get_digest', number=1000)"
     ],
     "language": "python",
     "metadata": {},
     "outputs": []
    }
   ],
   "metadata": {}
  }
 ]
}