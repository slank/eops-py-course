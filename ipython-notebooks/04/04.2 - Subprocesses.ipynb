{
 "metadata": {
  "name": ""
 },
 "nbformat": 3,
 "nbformat_minor": 0,
 "worksheets": [
  {
   "cells": [
    {
     "cell_type": "markdown",
     "metadata": {},
     "source": [
      "# Subprocesses"
     ]
    },
    {
     "cell_type": "code",
     "collapsed": false,
     "input": [
      "from subprocess import (\n",
      "    call,\n",
      "    check_call,\n",
      "    check_output,\n",
      "    PIPE,\n",
      "    STDOUT,\n",
      "    CalledProcessError,\n",
      "    Popen,\n",
      ")"
     ],
     "language": "python",
     "metadata": {},
     "outputs": []
    },
    {
     "cell_type": "markdown",
     "metadata": {},
     "source": [
      "#### Getting return codes"
     ]
    },
    {
     "cell_type": "code",
     "collapsed": false,
     "input": [
      "print call(\"true\")"
     ],
     "language": "python",
     "metadata": {},
     "outputs": []
    },
    {
     "cell_type": "code",
     "collapsed": false,
     "input": [
      "print call(\"false\")"
     ],
     "language": "python",
     "metadata": {},
     "outputs": []
    },
    {
     "cell_type": "code",
     "collapsed": false,
     "input": [
      "print check_call(\"false\")"
     ],
     "language": "python",
     "metadata": {},
     "outputs": []
    },
    {
     "cell_type": "code",
     "collapsed": false,
     "input": [
      "print check_call(\"fortune\")"
     ],
     "language": "python",
     "metadata": {},
     "outputs": []
    },
    {
     "cell_type": "markdown",
     "metadata": {},
     "source": [
      "Not terribly useful. Where is the output going? Let's take a look at the terminal."
     ]
    },
    {
     "cell_type": "markdown",
     "metadata": {},
     "source": [
      "#### Collecting output"
     ]
    },
    {
     "cell_type": "code",
     "collapsed": false,
     "input": [
      "print check_output(\"fortune\")"
     ],
     "language": "python",
     "metadata": {},
     "outputs": []
    },
    {
     "cell_type": "code",
     "collapsed": false,
     "input": [
      "command = [\"fortune\", \"--help\"]\n",
      "print check_output(command)"
     ],
     "language": "python",
     "metadata": {},
     "outputs": []
    },
    {
     "cell_type": "code",
     "collapsed": false,
     "input": [
      "try:\n",
      "    print check_output(command)\n",
      "except CalledProcessError as e:\n",
      "    print e.output"
     ],
     "language": "python",
     "metadata": {},
     "outputs": []
    },
    {
     "cell_type": "markdown",
     "metadata": {},
     "source": [
      "Where's the error?"
     ]
    },
    {
     "cell_type": "markdown",
     "metadata": {},
     "source": [
      "#### Redirection and Communication"
     ]
    },
    {
     "cell_type": "code",
     "collapsed": false,
     "input": [
      "try:\n",
      "    print check_output(command, stderr=STDOUT)\n",
      "except CalledProcessError as e:\n",
      "    print e.output"
     ],
     "language": "python",
     "metadata": {},
     "outputs": []
    },
    {
     "cell_type": "code",
     "collapsed": false,
     "input": [
      "lines = \"\"\"\n",
      "foo\n",
      "bar\n",
      "baz\"\"\"\n",
      "\n",
      "command = [\"grep\", \"-n\", \"bar\"]\n",
      "\n",
      "e = Popen(command, stdin=PIPE, stdout=PIPE)\n",
      "\n",
      "stdout, stderr = e.communicate(lines)\n",
      "\n",
      "print stdout"
     ],
     "language": "python",
     "metadata": {},
     "outputs": []
    }
   ],
   "metadata": {}
  }
 ]
}