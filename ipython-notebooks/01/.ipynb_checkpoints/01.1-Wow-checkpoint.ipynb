{
 "metadata": {
  "name": ""
 },
 "nbformat": 3,
 "nbformat_minor": 0,
 "worksheets": [
  {
   "cells": [
    {
     "cell_type": "code",
     "collapsed": false,
     "input": [
      "more_args = {\n",
      "    \"I can haz\": \"cheezeburger\",\n",
      "    \"Winter\": \"is coming\",\n",
      "    \"Jesse, we have to cook\": \"breakfast\",\n",
      "}\n",
      "\n",
      "def doge(args):\n",
      "    print \"wow, very arguments:\"\n",
      "    for num, arg in args.items():\n",
      "        print \" {}: {}\".format(num, arg)\n",
      "    print \"such python\"\n",
      "\n",
      "doge({'a': 1, 'b': 2})"
     ],
     "language": "python",
     "metadata": {},
     "outputs": [
      {
       "output_type": "stream",
       "stream": "stdout",
       "text": [
        "wow, very arguments:\n",
        " a: 1\n",
        " b: 2\n",
        "such python\n"
       ]
      }
     ],
     "prompt_number": 8
    },
    {
     "cell_type": "code",
     "collapsed": false,
     "input": [],
     "language": "python",
     "metadata": {},
     "outputs": []
    }
   ],
   "metadata": {}
  }
 ]
}